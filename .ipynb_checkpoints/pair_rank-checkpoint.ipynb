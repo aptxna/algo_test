{
 "cells": [
  {
   "cell_type": "code",
   "execution_count": 1,
   "metadata": {},
   "outputs": [],
   "source": [
    "import os, sys\n",
    "import numpy as np\n",
    "import pandas as pd\n",
    "from itertools import combinations"
   ]
  },
  {
   "cell_type": "code",
   "execution_count": 2,
   "metadata": {},
   "outputs": [
    {
     "data": {
      "text/html": [
       "<div>\n",
       "<style scoped>\n",
       "    .dataframe tbody tr th:only-of-type {\n",
       "        vertical-align: middle;\n",
       "    }\n",
       "\n",
       "    .dataframe tbody tr th {\n",
       "        vertical-align: top;\n",
       "    }\n",
       "\n",
       "    .dataframe thead th {\n",
       "        text-align: right;\n",
       "    }\n",
       "</style>\n",
       "<table border=\"1\" class=\"dataframe\">\n",
       "  <thead>\n",
       "    <tr style=\"text-align: right;\">\n",
       "      <th></th>\n",
       "      <th>pos</th>\n",
       "      <th>query</th>\n",
       "      <th>score</th>\n",
       "    </tr>\n",
       "  </thead>\n",
       "  <tbody>\n",
       "    <tr>\n",
       "      <th>0</th>\n",
       "      <td>1</td>\n",
       "      <td>cat</td>\n",
       "      <td>0.041326</td>\n",
       "    </tr>\n",
       "    <tr>\n",
       "      <th>1</th>\n",
       "      <td>2</td>\n",
       "      <td>cat</td>\n",
       "      <td>0.431322</td>\n",
       "    </tr>\n",
       "    <tr>\n",
       "      <th>2</th>\n",
       "      <td>3</td>\n",
       "      <td>cat</td>\n",
       "      <td>0.217069</td>\n",
       "    </tr>\n",
       "    <tr>\n",
       "      <th>3</th>\n",
       "      <td>2</td>\n",
       "      <td>dog</td>\n",
       "      <td>0.475283</td>\n",
       "    </tr>\n",
       "    <tr>\n",
       "      <th>4</th>\n",
       "      <td>3</td>\n",
       "      <td>dog</td>\n",
       "      <td>0.294111</td>\n",
       "    </tr>\n",
       "  </tbody>\n",
       "</table>\n",
       "</div>"
      ],
      "text/plain": [
       "   pos query     score\n",
       "0    1   cat  0.041326\n",
       "1    2   cat  0.431322\n",
       "2    3   cat  0.217069\n",
       "3    2   dog  0.475283\n",
       "4    3   dog  0.294111"
      ]
     },
     "execution_count": 2,
     "metadata": {},
     "output_type": "execute_result"
    }
   ],
   "source": [
    "df = pd.DataFrame({'query' : ['cat', 'cat', 'dog', 'dog', 'cat'], \n",
    "                   'score' : np.random.rand(5), \n",
    "                   'pos'   : [3, 1, 2, 3, 2]})\n",
    "\n",
    "df = df.groupby(['query']).apply(lambda x: x.sort_values(['pos'], ascending=True)).reset_index(drop=True)\n",
    "df"
   ]
  },
  {
   "cell_type": "code",
   "execution_count": 3,
   "metadata": {},
   "outputs": [],
   "source": [
    "def get_subset(df, value, node='query'):\n",
    "    df = df[df[node]==value].reset_index(drop=True)\n",
    "    df.index = np.arange(1, len(df) + 1)\n",
    "    df['pos'] = df.index\n",
    "    return df"
   ]
  },
  {
   "cell_type": "code",
   "execution_count": 4,
   "metadata": {},
   "outputs": [
    {
     "name": "stdout",
     "output_type": "stream",
     "text": [
      "0.5\n"
     ]
    }
   ],
   "source": [
    "data = pd.DataFrame(columns=['query', 'score', 'pos', 'rank'])\n",
    "\n",
    "num_inverse = 0\n",
    "num_total = 0\n",
    "\n",
    "for var in np.unique(df['query']):\n",
    "    subset = get_subset(df, var)\n",
    "    subset['rank'] = subset.groupby('query')['score'].rank(ascending=False)\n",
    "    subset['rank'] = subset['rank'].astype(int)\n",
    "    res = subset['rank'] - subset['pos']\n",
    "    num_inverse += sum(res[res > 0])\n",
    "\n",
    "    if len(subset) < 2:\n",
    "        continue\n",
    "    else:\n",
    "        comb = combinations(range(len(subset)), 2)\n",
    "        num_total += len(list(comb))\n",
    "    \n",
    "    data = pd.concat([data, subset], axis=0)\n",
    "    \n",
    "print(num_inverse/(num_total*1.))"
   ]
  },
  {
   "cell_type": "code",
   "execution_count": null,
   "metadata": {},
   "outputs": [],
   "source": []
  }
 ],
 "metadata": {
  "kernelspec": {
   "display_name": "Python 2.7.16 64-bit",
   "language": "python",
   "name": "python271664bit9fa3d744d7fb4be58ede2e18be70a1c4"
  },
  "language_info": {
   "codemirror_mode": {
    "name": "ipython",
    "version": 2
   },
   "file_extension": ".py",
   "mimetype": "text/x-python",
   "name": "python",
   "nbconvert_exporter": "python",
   "pygments_lexer": "ipython2",
   "version": "2.7.16"
  }
 },
 "nbformat": 4,
 "nbformat_minor": 4
}
